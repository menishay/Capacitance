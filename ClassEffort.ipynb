import numpy as np
import matplotlib.pyplot as plt

V=np.array([10])
Q=np.array([30])

plt.scatter(V,Q)
